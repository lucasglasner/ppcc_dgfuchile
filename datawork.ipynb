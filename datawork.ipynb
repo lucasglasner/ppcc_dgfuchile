{
  "cells": [
    {
      "cell_type": "code",
      "execution_count": 12,
      "metadata": {},
      "outputs": [
        {
          "data": {
            "text/html": [
              "<div>\n",
              "<style scoped>\n",
              "    .dataframe tbody tr th:only-of-type {\n",
              "        vertical-align: middle,\n",
              "    }\n",
              "\n",
              "    .dataframe tbody tr th {\n",
              "        vertical-align: top,\n",
              "    }\n",
              "\n",
              "    .dataframe thead th {\n",
              "        text-align: right,\n",
              "    }\n",
              "</style>\n",
              "<table border=\"1\" class=\"dataframe\">\n",
              "  <thead>\n",
              "    <tr style=\"text-align: right,\">\n",
              "      <th></th>\n",
              "      <th>nombre</th>\n",
              "      <th>mail</th>\n",
              "      <th>comuna</th>\n",
              "      <th>lat</th>\n",
              "      <th>lon</th>\n",
              "      <th>alias</th>\n",
              "      <th>grupo</th>\n",
              "    </tr>\n",
              "  </thead>\n",
              "  <tbody>\n",
              "    <tr>\n",
              "      <th>0</th>\n",
              "      <td>Vicente López</td>\n",
              "      <td>vicentelopez.v@gmail.com</td>\n",
              "      <td>Peñaflor</td>\n",
              "      <td>-33.606575</td>\n",
              "      <td>-70.906942</td>\n",
              "      <td>Huaso</td>\n",
              "      <td>MET-01</td>\n",
              "    </tr>\n",
              "    <tr>\n",
              "      <th>1</th>\n",
              "      <td>Maria Fernanda Ruedlinger</td>\n",
              "      <td>maria.ruedlinger@ug.uchile.cl</td>\n",
              "      <td>Maipu</td>\n",
              "      <td>-33.491232</td>\n",
              "      <td>-70.766251</td>\n",
              "      <td>Saturno</td>\n",
              "      <td>MET-01</td>\n",
              "    </tr>\n",
              "    <tr>\n",
              "      <th>2</th>\n",
              "      <td>María Victoria Atisha</td>\n",
              "      <td>maria.atisha@ug.uchile.cl</td>\n",
              "      <td>Ñuñoa</td>\n",
              "      <td>-33.460082</td>\n",
              "      <td>-70.592846</td>\n",
              "      <td>Botitas</td>\n",
              "      <td>MET-01</td>\n",
              "    </tr>\n",
              "    <tr>\n",
              "      <th>3</th>\n",
              "      <td>Diego Ignacio Faúndez</td>\n",
              "      <td>dfaundezortega@gmail.com</td>\n",
              "      <td>La Florida</td>\n",
              "      <td>-33.534556</td>\n",
              "      <td>-70.550194</td>\n",
              "      <td>Fortnite</td>\n",
              "      <td>MET-01</td>\n",
              "    </tr>\n",
              "    <tr>\n",
              "      <th>4</th>\n",
              "      <td>Matías Valentín Guzmán</td>\n",
              "      <td>matias.guzmanparra@gmail.com</td>\n",
              "      <td>La Florida</td>\n",
              "      <td>-33.531720</td>\n",
              "      <td>-70.556389</td>\n",
              "      <td>KIKE</td>\n",
              "      <td>MET-01</td>\n",
              "    </tr>\n",
              "  </tbody>\n",
              "</table>\n",
              "</div>"
            ],
            "text/plain": [
              "                      nombre                           mail      comuna  \\\n",
              "0              Vicente López       vicentelopez.v@gmail.com    Peñaflor   \n",
              "1  Maria Fernanda Ruedlinger  maria.ruedlinger@ug.uchile.cl       Maipu   \n",
              "2      María Victoria Atisha      maria.atisha@ug.uchile.cl       Ñuñoa   \n",
              "3      Diego Ignacio Faúndez       dfaundezortega@gmail.com  La Florida   \n",
              "4     Matías Valentín Guzmán   matias.guzmanparra@gmail.com  La Florida   \n",
              "\n",
              "         lat        lon     alias   grupo  \n",
              "0 -33.606575 -70.906942     Huaso  MET-01  \n",
              "1 -33.491232 -70.766251   Saturno  MET-01  \n",
              "2 -33.460082 -70.592846   Botitas  MET-01  \n",
              "3 -33.534556 -70.550194  Fortnite  MET-01  \n",
              "4 -33.531720 -70.556389      KIKE  MET-01  "
            ]
          },
          "execution_count": 12,
          "metadata": {},
          "output_type": "execute_result"
        }
      ],
      "source": [
        "import pandas as pd\n",
        "df = pd.read_csv(\"C:\\\\Users\\\\VICTUS\\\\Documents\\\\GitHub\\\\ppcc_dgfuchile\\\\eventos\\\\2024-04-30.csv\")\n",
        "df.drop(['pp', 'Unnamed: 0', 'Unnamed: 0.1'], axis=1, inplace=True)\n",
        "df.head()\n",
        "df.index.name = 'index'\n",
        "df.to_csv(\"C:\\\\Users\\\\VICTUS\\\\Documents\\\\GitHub\\\\ppcc_dgfuchile\\\\usuarios\\\\usuarios.csv\")\n"
      ]
    },
    {
      "cell_type": "code",
      "execution_count": 8,
      "metadata": {},
      "outputs": [],
      "source": [
        "import pandas as pd\n",
        "df = pd.read_csv(\"C:\\\\Users\\\\VICTUS\\\\Documents\\\\GitHub\\\\ppcc_dgfuchile\\\\eventos\\\\2023-07-21.csv\")\n",
        "df.index.name = 'index'\n",
        "\n",
        "pp = df.pp.values\n",
        "\n",
        "df.drop(['pp'], axis=1, inplace=True)\n",
        "df['pp'] = pp\n",
        "df\n",
        "\n",
        "df.to_csv(\"C:\\\\Users\\\\VICTUS\\\\Documents\\\\GitHub\\\\ppcc_dgfuchile\\\\eventos\\\\2023-07-21.csv\")"
      ]
    },
    {
      "cell_type": "code",
      "execution_count": 7,
      "metadata": {},
      "outputs": [],
      "source": [
        "import pandas as pd\n",
        "df = pd.read_csv(\".\\\\usuarios\\\\usuarios.csv\")\n",
        "df.drop('Unnamed: 0', axis=1, inplace=True)\n",
        "df.set_index('index', inplace=True)\n",
        "df.to_csv(\".\\\\usuarios\\\\usuarios.csv\")"
      ]
    }
  ],
  "metadata": {
    "kernelspec": {
      "display_name": "slit_env",
      "language": "python",
      "name": "python3"
    },
    "language_info": {
      "codemirror_mode": {
        "name": "ipython",
        "version": 3
      },
      "file_extension": ".py",
      "mimetype": "text/x-python",
      "name": "python",
      "nbconvert_exporter": "python",
      "pygments_lexer": "ipython3",
      "version": "3.10.9"
    }
  },
  "nbformat": 4,
  "nbformat_minor": 2
}
